{
 "cells": [
  {
   "cell_type": "code",
   "execution_count": null,
   "metadata": {},
   "outputs": [],
   "source": [
    "#Introduction to 'dictionary' datatype:\n",
    "\n",
    "Def: the dictionary is a combination of key value pairs..\n",
    "\n",
    "Classification: Its classified as a mutable datatype..\n",
    "\n",
    "dict is defined in {}\n"
   ]
  },
  {
   "cell_type": "code",
   "execution_count": 4,
   "metadata": {},
   "outputs": [
    {
     "name": "stdout",
     "output_type": "stream",
     "text": [
      "{'colour': 'green', 'points': 5}\n"
     ]
    }
   ],
   "source": [
    "#Req: I want to create an alien game and add properties of its colour and points...!\n",
    "\n",
    "alien = {'colour':'green', \"points\":5}\n",
    "\n",
    "\n",
    "print(alien)"
   ]
  },
  {
   "cell_type": "code",
   "execution_count": 5,
   "metadata": {},
   "outputs": [
    {
     "data": {
      "text/plain": [
       "dict"
      ]
     },
     "execution_count": 5,
     "metadata": {},
     "output_type": "execute_result"
    }
   ],
   "source": [
    "type(alien)"
   ]
  },
  {
   "cell_type": "code",
   "execution_count": 7,
   "metadata": {},
   "outputs": [
    {
     "name": "stdout",
     "output_type": "stream",
     "text": [
      "green\n"
     ]
    }
   ],
   "source": [
    "#Req: How to access teh value from the above dictionary \n",
    "\n",
    "print(alien['colour']) # by giving the key we are getting the output value..."
   ]
  },
  {
   "cell_type": "code",
   "execution_count": 8,
   "metadata": {},
   "outputs": [
    {
     "ename": "KeyError",
     "evalue": "'green'",
     "output_type": "error",
     "traceback": [
      "\u001b[1;31m---------------------------------------------------------------------------\u001b[0m",
      "\u001b[1;31mKeyError\u001b[0m                                  Traceback (most recent call last)",
      "\u001b[1;32m<ipython-input-8-7aa8df162af6>\u001b[0m in \u001b[0;36m<module>\u001b[1;34m\u001b[0m\n\u001b[1;32m----> 1\u001b[1;33m \u001b[0mprint\u001b[0m\u001b[1;33m(\u001b[0m\u001b[0malien\u001b[0m\u001b[1;33m[\u001b[0m\u001b[1;34m'green'\u001b[0m\u001b[1;33m]\u001b[0m\u001b[1;33m)\u001b[0m\u001b[1;33m\u001b[0m\u001b[1;33m\u001b[0m\u001b[0m\n\u001b[0m",
      "\u001b[1;31mKeyError\u001b[0m: 'green'"
     ]
    }
   ],
   "source": [
    "print(alien['green']) # we cant get key by giving the value.."
   ]
  },
  {
   "cell_type": "code",
   "execution_count": 10,
   "metadata": {},
   "outputs": [
    {
     "name": "stdout",
     "output_type": "stream",
     "text": [
      "{'colour': 'green', 'points': 5}\n",
      "{'colour': 'green', 'points': 5, 'startpossition': 0, 'currentpossition': 5}\n"
     ]
    }
   ],
   "source": [
    "#Req: How to add new key value pair to the dictionary..\n",
    "\n",
    "print(alien)\n",
    "\n",
    "#startpossition:0..currentpossition:5\n",
    "\n",
    "alien['startpossition'] = 0\n",
    "alien['currentpossition'] = 5   # We can add key value pairs by using this syntex\n",
    "\n",
    "print(alien)\n",
    "    \n",
    "    "
   ]
  },
  {
   "cell_type": "code",
   "execution_count": 14,
   "metadata": {},
   "outputs": [
    {
     "name": "stdout",
     "output_type": "stream",
     "text": [
      "{'username': 'Tilak N', 'Lname': 'tilak', 'fname': 'n', 'DOB': '01-01-2020', 'pwd': 1234}\n"
     ]
    }
   ],
   "source": [
    "#Req: facebook account creation:\n",
    "\n",
    "user = {'username':'Tilak N','Lname':'tilak','fname':'n','DOB':'01-01-2020','pwd':1234}\n",
    "\n",
    "print(user)"
   ]
  },
  {
   "cell_type": "code",
   "execution_count": 16,
   "metadata": {},
   "outputs": [
    {
     "name": "stdout",
     "output_type": "stream",
     "text": [
      "Tilak N\n"
     ]
    }
   ],
   "source": [
    "print(user['username'])"
   ]
  },
  {
   "cell_type": "code",
   "execution_count": 17,
   "metadata": {},
   "outputs": [
    {
     "name": "stdout",
     "output_type": "stream",
     "text": [
      "{'username': 'Tilak N', 'Lname': 'tilak', 'fname': 'n', 'DOB': '01-01-2020', 'pwd': 1234, 'location': 'Cross road'}\n"
     ]
    }
   ],
   "source": [
    "#Adding loaction to the dict\n",
    "\n",
    "user['location'] = 'Cross road'\n",
    "print(user)\n"
   ]
  },
  {
   "cell_type": "code",
   "execution_count": 18,
   "metadata": {},
   "outputs": [
    {
     "name": "stdout",
     "output_type": "stream",
     "text": [
      "{'username': 'Tilak N', 'Lname': 'tilak', 'DOB': '01-01-2020', 'pwd': 1234, 'location': 'Cross road'}\n"
     ]
    }
   ],
   "source": [
    "#Delete key value pair from the dict..\n",
    "\n",
    "del user['fname']\n",
    "print(user)"
   ]
  },
  {
   "cell_type": "code",
   "execution_count": null,
   "metadata": {},
   "outputs": [],
   "source": []
  }
 ],
 "metadata": {
  "kernelspec": {
   "display_name": "Python 3",
   "language": "python",
   "name": "python3"
  },
  "language_info": {
   "codemirror_mode": {
    "name": "ipython",
    "version": 3
   },
   "file_extension": ".py",
   "mimetype": "text/x-python",
   "name": "python",
   "nbconvert_exporter": "python",
   "pygments_lexer": "ipython3",
   "version": "3.8.5"
  }
 },
 "nbformat": 4,
 "nbformat_minor": 4
}
