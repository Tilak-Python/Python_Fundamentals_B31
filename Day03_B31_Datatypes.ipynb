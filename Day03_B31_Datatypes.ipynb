{
 "cells": [
  {
   "cell_type": "code",
   "execution_count": null,
   "metadata": {},
   "outputs": [],
   "source": [
    "# Introduction to Datatypes in Python:-\n",
    "\n",
    "1) String -----> str\n",
    "2) list -------> list\n",
    "3) tuple -------> tuple\n",
    "4) dictionaries ----> dict\n",
    "5) Number [ Integers (int) and decimals (float)]\n"
   ]
  },
  {
   "cell_type": "code",
   "execution_count": null,
   "metadata": {},
   "outputs": [],
   "source": [
    "#Classification of datatypes:\n",
    "\n",
    "1) Mutable datatype -----> It means we can alter/edit the data once its has been decleared\n",
    "\n",
    "2) immutable dattype -----> Not able to edit, its a fixed datatype..\n"
   ]
  },
  {
   "cell_type": "code",
   "execution_count": 13,
   "metadata": {},
   "outputs": [
    {
     "data": {
      "text/plain": [
       "str"
      ]
     },
     "execution_count": 13,
     "metadata": {},
     "output_type": "execute_result"
    }
   ],
   "source": [
    "# How to validate and varify the data type:\n",
    "\n",
    "\n",
    "type ('name')\n",
    "type ('name1')\n"
   ]
  },
  {
   "cell_type": "code",
   "execution_count": 14,
   "metadata": {},
   "outputs": [
    {
     "data": {
      "text/plain": [
       "int"
      ]
     },
     "execution_count": 14,
     "metadata": {},
     "output_type": "execute_result"
    }
   ],
   "source": [
    "type (10)"
   ]
  },
  {
   "cell_type": "code",
   "execution_count": 15,
   "metadata": {},
   "outputs": [
    {
     "data": {
      "text/plain": [
       "float"
      ]
     },
     "execution_count": 15,
     "metadata": {},
     "output_type": "execute_result"
    }
   ],
   "source": [
    "type (10.23)"
   ]
  },
  {
   "cell_type": "code",
   "execution_count": null,
   "metadata": {},
   "outputs": [],
   "source": [
    "#Introduction to string datatype:-\n",
    "#Def: A string is nothing but a serice of charactars decleared in quates..\n",
    "\n",
    "Classification:- A string is classified as an immutable datatype\n",
    "\n",
    "# How to define a string:- 3 possible ways\n",
    "\n",
    "Single quotes : ''\n",
    "Double quotes : \"\"\n",
    "Triple quotes : \"\"\"\"\"\"\n"
   ]
  },
  {
   "cell_type": "code",
   "execution_count": 18,
   "metadata": {},
   "outputs": [
    {
     "name": "stdout",
     "output_type": "stream",
     "text": [
      "Tilak\n",
      "Ramu\n",
      "Venu\n"
     ]
    }
   ],
   "source": [
    "#Examples:\n",
    "\n",
    "name = 'Tilak'\n",
    "print(name)\n",
    "\n",
    "name1 = \"Ramu\"\n",
    "print(name1)\n",
    "\n",
    "name2 = \"\"\"Venu\"\"\"\n",
    "print(name2)\n",
    "    "
   ]
  },
  {
   "cell_type": "code",
   "execution_count": null,
   "metadata": {},
   "outputs": [],
   "source": []
  },
  {
   "cell_type": "code",
   "execution_count": null,
   "metadata": {},
   "outputs": [],
   "source": [
    "Introduction to string methods:-"
   ]
  },
  {
   "cell_type": "code",
   "execution_count": 6,
   "metadata": {},
   "outputs": [
    {
     "name": "stdout",
     "output_type": "stream",
     "text": [
      "tilak nimmagadda\n",
      "Tilak Nimmagadda\n",
      "TILAK NIMMAGADDA\n",
      "tilak nimmagadda\n"
     ]
    }
   ],
   "source": [
    "# Requirement1: To correct and get the output in correct format..\n",
    "\n",
    "fullname = 'tilak nimmagadda'\n",
    "\n",
    "print(fullname)\n",
    "print(fullname.title())    #title case..\n",
    "print(fullname.upper())    #Upper case..\n",
    "print(fullname.lower())    #lower case..\n",
    "\n",
    "# By using the \"title()\" string method we will get the right format of a title\n",
    "# By using the \"upper()\" string method we will get the name in uppercase..\n",
    "# By using the \"upper()\" string method we will get the name in lowercase..\n"
   ]
  },
  {
   "cell_type": "code",
   "execution_count": null,
   "metadata": {},
   "outputs": [],
   "source": []
  },
  {
   "cell_type": "code",
   "execution_count": null,
   "metadata": {},
   "outputs": [],
   "source": [
    "Introduction to \"f\" string:-"
   ]
  },
  {
   "cell_type": "code",
   "execution_count": 10,
   "metadata": {},
   "outputs": [
    {
     "name": "stdout",
     "output_type": "stream",
     "text": [
      "tilak nimmagadda\n",
      "Tilak Nimmagadda\n"
     ]
    }
   ],
   "source": [
    "#Req1 :- I want to get the full name from the below nu using the referance to the above..\n",
    "\n",
    "firstname = 'tilak'\n",
    "lastname = 'nimmagadda'\n",
    "\n",
    "# f string Syntax: f \"{placeholder1} {placeholder2}....n\" \n",
    "\n",
    "fullname = f\"{firstname} {lastname}\"\n",
    "print(fullname)\n",
    "\n",
    "print(fullname.title())\n",
    "    "
   ]
  },
  {
   "cell_type": "code",
   "execution_count": 12,
   "metadata": {},
   "outputs": [
    {
     "name": "stdout",
     "output_type": "stream",
     "text": [
      "Keep Up The Good Work, Tilak Nimmagadda\n"
     ]
    }
   ],
   "source": [
    "#Req2:- Want to appreciate for the good work..\n",
    "\n",
    "appreciate = f\"Keep up the good work, {fullname}\"\n",
    "print(appreciate.title())"
   ]
  },
  {
   "cell_type": "code",
   "execution_count": null,
   "metadata": {},
   "outputs": [],
   "source": []
  }
 ],
 "metadata": {
  "kernelspec": {
   "display_name": "Python 3",
   "language": "python",
   "name": "python3"
  },
  "language_info": {
   "codemirror_mode": {
    "name": "ipython",
    "version": 3
   },
   "file_extension": ".py",
   "mimetype": "text/x-python",
   "name": "python",
   "nbconvert_exporter": "python",
   "pygments_lexer": "ipython3",
   "version": "3.8.5"
  }
 },
 "nbformat": 4,
 "nbformat_minor": 4
}
